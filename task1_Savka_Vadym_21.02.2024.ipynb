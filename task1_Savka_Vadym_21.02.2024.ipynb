{
  "cells": [
    {
      "cell_type": "markdown",
      "metadata": {
        "id": "HXiPVw_feCSb"
      },
      "source": [
        "## Завдання на лабораторну работу №1\n",
        "\n",
        "В цій лабораторної роботі Вам буде запропоновано вирішити кілька завдань скориставшись засобами мови python. Рішення кожного завдання передбачає написання коду і демонстрація його працездатності на прикладах. За кожне вірно виконане завдання Ви отримуєте **1 бал**.\n",
        "\n",
        "**Роботи ідентифіковані як ІДЕНТИЧНІ одразу отримують 0 балів.**\n",
        "\n",
        "[зверніть увагу на типізацію функцій](https://docs.python.org/3/library/typing.html)\n",
        "\n",
        "```NB```: При написанні коду не забувайте видаляти ```pass```!"
      ]
    },
    {
      "cell_type": "markdown",
      "metadata": {
        "id": "fwu84zLVneAT"
      },
      "source": [
        "**Don't cheat!**"
      ]
    },
    {
      "cell_type": "markdown",
      "metadata": {
        "id": "IPQHbkSueCSf"
      },
      "source": [
        "Перед тим, як надіслати своє завдання на перевірку, вкажіть в назві файлу своє ім'я та прізвище!\n",
        "Наприклад: ```basic_ai_task1_python_ana_de.ipynb```"
      ]
    },
    {
      "cell_type": "markdown",
      "metadata": {
        "id": "OE2qgEaeeCSg"
      },
      "source": [
        "Завдання 1: На вхід функція приймає рядок s. Функція повинна повернути True якщо рядок є паліндромом та False – в протилежному випадку.\n",
        "\n",
        "Наприклад: \n",
        "\n",
        "*   `is_palindrome(s='anade') -> False`\n",
        "*   `is_palindrome(s='ana') -> True`\n",
        "\n",
        "\n"
      ]
    },
    {
      "cell_type": "code",
      "execution_count": 10,
      "metadata": {
        "id": "Kkp_Eb1jeCSg"
      },
      "outputs": [
        {
          "name": "stdout",
          "output_type": "stream",
          "text": [
            "False\n",
            "True\n",
            "False\n"
          ]
        }
      ],
      "source": [
        "def is_palindrome(s):\n",
        "    start_index = 0\n",
        "    end_index = len(s) - 1\n",
        "\n",
        "\n",
        "    while start_index < end_index:\n",
        "      \n",
        "        if s[start_index] != s[end_index]:\n",
        "            return False\n",
        "        start_index += 1\n",
        "        end_index -= 1\n",
        "\n",
        "    return True\n",
        "\n",
        "\n",
        "print(is_palindrome(s='anade'))  \n",
        "print(is_palindrome(s='корок')) \n",
        "print(is_palindrome(s='anad'))    "
      ]
    },
    {
      "cell_type": "markdown",
      "metadata": {
        "id": "IyJBIte7eCSh"
      },
      "source": [
        "Завдання 2: Розв’язати квадратне рівняння $ax^2+bx + c = 0$.  Напишіть функцію,яка приймає параметри квадратного рівняння, а повертає одне рішення або декілька.\n",
        "\n",
        "Наприклад:  \n",
        "\n",
        "\n",
        "```\n",
        "solve_quad(a=1, b=-2, c=1) -> 1  \n",
        "solve_quad(a=1, b=0, c=-1) -> (-1, 1)  \n",
        "solve_quad(a=0, b=2, c=-1) -> 0.5\n",
        "```\n",
        "\n",
        "\n",
        "\n",
        "\n",
        "\n",
        " "
      ]
    },
    {
      "cell_type": "code",
      "execution_count": 2,
      "metadata": {
        "id": "T-fCGsPjeCSh"
      },
      "outputs": [
        {
          "name": "stdout",
          "output_type": "stream",
          "text": [
            "1.0\n",
            "(1.0, -1.0)\n",
            "0.5\n",
            "((-1+2j), (-1-2j))\n"
          ]
        }
      ],
      "source": [
        "import math\n",
        "\n",
        "def solve_quad(a, b, c):\n",
        "    if a == 0:\n",
        "        if b != 0:\n",
        "            return -c / b\n",
        "        \n",
        "    discr = b ** 2 - 4 * a * c\n",
        "    if discr > 0:  \n",
        "        x1 = (-b + math.sqrt(discr)) / (2 * a)\n",
        "        x2 = (-b - math.sqrt(discr)) / (2 * a)\n",
        "        return x1, x2\n",
        "    \n",
        "    elif discr == 0:     \n",
        "        x = -b / (2 * a)\n",
        "        return x\n",
        "    \n",
        "    elif discr < 0:   \n",
        "        real_part = -b / (2 * a)\n",
        "        imagination_part = math.sqrt(abs(discr)) / (2 * a)\n",
        "        return complex(real_part, imagination_part), complex(real_part, -imagination_part)\n",
        "\n",
        "\n",
        "print(solve_quad(a=1, b=-2, c=1))  \n",
        "print(solve_quad(a=1, b=0, c=-1))   \n",
        "print(solve_quad(a=0, b=2, c=-1))   \n",
        "print(solve_quad(a=1, b=2, c=5))\n"
      ]
    },
    {
      "cell_type": "markdown",
      "metadata": {
        "id": "XTXSIYdYeCSh"
      },
      "source": [
        "Завдання 3: Реалізація функції merge. На вхід функція приймає 2 відсортованих масиви - `a` і `b`. Функція повинна повернути один відсортований масив, який містить всі елементи масивів `a` і `b`. \n",
        "\n",
        "Наприклад: `merge([1, 3, 3, 5], [3, 5, 5, 7]) -> [1, 3, 3, 3, 5, 5, 5, 7]`"
      ]
    },
    {
      "cell_type": "code",
      "execution_count": 16,
      "metadata": {
        "id": "nfXKB-nveCSh"
      },
      "outputs": [
        {
          "name": "stdout",
          "output_type": "stream",
          "text": [
            "[1, 3, 3, 3, 5, 5, 5, 7]\n",
            "[1, 3, 5, 5, 7, 8, 3, 5]\n"
          ]
        }
      ],
      "source": [
        "from typing import List\n",
        "\n",
        "def merge(a: List[int], b: List[int]) -> List[int]:\n",
        "    result = [] \n",
        "\n",
        "    n = 0\n",
        "    m = 0\n",
        "\n",
        "    while n < len(a) and m < len(b):\n",
        "        if a[n] < b[m]:\n",
        "            result.append(a[n])\n",
        "            n += 1\n",
        "        elif a[n] > b[m]:\n",
        "            result.append(b[m])\n",
        "            m += 1\n",
        "        else:  \n",
        "            result.append(a[n])\n",
        "            result.append(b[m])\n",
        "            n += 1\n",
        "            m += 1\n",
        "\n",
        "    for k in range(n, len(a)):\n",
        "        result.append(a[k])\n",
        "\n",
        "    for k in range(m, len(b)):\n",
        "        result.append(b[k])\n",
        "\n",
        "    return result\n",
        "\n",
        "print(merge([1, 3, 3, 5], [3, 5, 5, 7]))\n",
        "\n",
        "print(merge([1, 8, 3, 5], [3, 5, 5, 7])) \n"
      ]
    },
    {
      "cell_type": "markdown",
      "metadata": {
        "id": "Z4zl4_cNeCSi"
      },
      "source": [
        "Завдання 4: Реалізація алгоритму [MergeSort](https://ru.wikipedia.org/wiki/%D0%A1%D0%BE%D1%80%D1%82%D0%B8%D1%80%D0%BE%D0%B2%D0%BA%D0%B0_%D1%81%D0%BB%D0%B8%D1%8F%D0%BD%D0%B8%D0%B5%D0%BC)..\n",
        "\n",
        "Наприклад: `MergeSort([3, 1, 3, 5]) -> [1, 3, 3, 5]`"
      ]
    },
    {
      "cell_type": "code",
      "execution_count": 1,
      "metadata": {
        "id": "VhDE9sTyeCSi"
      },
      "outputs": [
        {
          "name": "stdout",
          "output_type": "stream",
          "text": [
            "[1, 3, 3, 5]\n",
            "[1, 3, 4, 12]\n"
          ]
        }
      ],
      "source": [
        "from typing import List\n",
        "\n",
        "def merge(a: List[int], b: List[int]) -> List[int]:\n",
        "    result = []\n",
        "    n, m = 0, 0\n",
        "\n",
        "    while n < len(a) and m < len(b):\n",
        "        if a[n] < b[m]:\n",
        "            result.append(a[n])\n",
        "            n += 1\n",
        "        else:\n",
        "            result.append(b[m])\n",
        "            m += 1\n",
        "\n",
        "    result.extend(a[n:])\n",
        "    result.extend(b[m:])\n",
        "    return result\n",
        "\n",
        "def MergeSort(L: List[int]) -> List[int]:\n",
        "    if len(L) <= 1:\n",
        "        return L\n",
        "\n",
        "    mid = len(L) // 2\n",
        "    left = L[:mid]\n",
        "    right = L[mid:]\n",
        "\n",
        "    left_sorted = MergeSort(left)\n",
        "    right_sorted = MergeSort(right)\n",
        "\n",
        "    return merge(left_sorted, right_sorted)\n",
        "\n",
        "\n",
        "print(MergeSort([3, 1, 3, 5])) \n",
        "print(MergeSort([1, 12, 3, 4]))"
      ]
    },
    {
      "cell_type": "markdown",
      "metadata": {
        "id": "oiEEW3IKeCSj"
      },
      "source": [
        "## Знайомство з numpy."
      ]
    },
    {
      "cell_type": "markdown",
      "metadata": {
        "id": "eEtj358ceCSj"
      },
      "source": [
        "Всі завдання з цієї частини передбачають написання функції на мові Python, а так само приклади роботи цієї функції. При реалізації завдань потрібно використовувати методи з бібліотеки `numpy`. Рішення з циклами будуть оцінені в 0 балів.\n",
        "\n",
        "[базова документація](http://www.numpy.org)\n",
        "\n",
        "```NB```: Під матрицею розуміється двовимірний [numpy.array](https://docs.scipy.org/doc/numpy/reference/generated/numpy.array.html)\n",
        "\n",
        "Для підключення модуля скористайтеся наступним рядком. \n",
        "Використовуйте стандартне скорочення np."
      ]
    },
    {
      "cell_type": "code",
      "execution_count": 18,
      "metadata": {
        "id": "tpv_AzJzeCSj"
      },
      "outputs": [],
      "source": [
        "import numpy as np"
      ]
    },
    {
      "cell_type": "markdown",
      "metadata": {
        "id": "syBtY_AReCSj"
      },
      "source": [
        "Cтворення одномірного і двомірного масивів методами numpy:"
      ]
    },
    {
      "cell_type": "code",
      "execution_count": 19,
      "metadata": {
        "id": "yfm0zbHJeCSj",
        "outputId": "e896f45e-df10-4364-f796-10032bd467cd"
      },
      "outputs": [
        {
          "name": "stdout",
          "output_type": "stream",
          "text": [
            "[1. 2. 3.]\n"
          ]
        }
      ],
      "source": [
        "Ar1d = np.array([1, 2, 3], dtype=np.float64)\n",
        "print(Ar1d)"
      ]
    },
    {
      "cell_type": "code",
      "execution_count": 21,
      "metadata": {
        "id": "NO1tV1fteCSk",
        "outputId": "59fedd1c-9b1b-43a9-a689-822c7efb3927"
      },
      "outputs": [
        {
          "name": "stdout",
          "output_type": "stream",
          "text": [
            "[[1. 2.]\n",
            " [3. 4.]]\n"
          ]
        }
      ],
      "source": [
        "Ar2d = np.array([[1, 2],\n",
        "                [3, 4]], dtype=np.float64)\n",
        "print(Ar2d)"
      ]
    },
    {
      "cell_type": "markdown",
      "metadata": {
        "id": "NZns18uoeCSk"
      },
      "source": [
        "Завдання 6: Написати функцію яка на вхід приймає 3 масиви – `X, Y, Z`. функція повертатиме `True` у випадку, коли вони рівні та `False` – якщо ні.\n",
        "\n",
        "Рекомендація до завдання: Не використовуйте оператор `==`"
      ]
    },
    {
      "cell_type": "code",
      "execution_count": 11,
      "metadata": {
        "id": "nzv5GOlqeCSl"
      },
      "outputs": [
        {
          "name": "stdout",
          "output_type": "stream",
          "text": [
            "True\n"
          ]
        }
      ],
      "source": [
        "import numpy as np\n",
        "\n",
        "def is_equal(X, Y, Z):\n",
        "    equal = np.array_equal(X, Y) and np.array_equal(Y, Z)\n",
        "    \n",
        "    return equal\n",
        "\n",
        "X = np.array([1, 2, 3])\n",
        "Y = np.array([1, 2, 3])\n",
        "Z = np.array([1, 2, 3])\n",
        "\n",
        "result = is_equal(X, Y, Z)\n",
        "print(result)\n"
      ]
    },
    {
      "cell_type": "markdown",
      "metadata": {
        "id": "4vYN-bnIeCSl"
      },
      "source": [
        "Завдання 7: написати функцію, яка приймає на вході вектор рядок, а повертає вектор стовбець.\n",
        "\n",
        "Рекомендація до завдання: Забороняється використовувати операцію транспонування! Скористайтесь методом `reshape`."
      ]
    },
    {
      "cell_type": "code",
      "execution_count": 12,
      "metadata": {
        "id": "cwnufrdPeCSl"
      },
      "outputs": [
        {
          "name": "stdout",
          "output_type": "stream",
          "text": [
            "[[1]\n",
            " [2]\n",
            " [3]]\n"
          ]
        }
      ],
      "source": [
        "import numpy as np\n",
        "def rot_vec(x):\n",
        "    rows, cols = x.shape\n",
        "\n",
        "    if rows == 1:\n",
        "        return x.reshape(cols, 1)\n",
        "    else:\n",
        "        print(\"Вхідний вектор не є рядком\")\n",
        "\n",
        "\n",
        "x = np.array([[1, 2, 3]])\n",
        "\n",
        "result = rot_vec(x)\n",
        "print(result)\n"
      ]
    },
    {
      "cell_type": "markdown",
      "metadata": {
        "id": "uvi-JOAheCSl"
      },
      "source": [
        "Завдання 8: Написати функцію яка приймає на вхід двовимірний масив, а повертає масив з діагональними елементами цієї матриці. \n",
        "\n",
        "Наприклад: `[[1, 2], [3, 4]] -> [1 4]`"
      ]
    },
    {
      "cell_type": "code",
      "execution_count": null,
      "metadata": {
        "id": "uBSPXOJkeCSl"
      },
      "outputs": [],
      "source": [
        "import numpy as np\n",
        "\n",
        "def get_diag(X):\n",
        "   \n",
        "    diagonal_elements = np.diag(X)\n",
        "    return diagonal_elements\n",
        "\n",
        "\n",
        "X = np.array([[1, 2], [3, 4]])\n",
        "\n",
        "result = get_diag(X)\n",
        "print(result)\n"
      ]
    },
    {
      "cell_type": "markdown",
      "metadata": {
        "id": "PvwgIU1veCSm"
      },
      "source": [
        "Завдання 9: Написати функцію яка приймає на вхід двомірний масив, а повертає масив елементів які знаходяться на другорядній діагоналі. Приклад: `[[1, 2], [3, 4]] -> [2 3]`"
      ]
    },
    {
      "cell_type": "code",
      "execution_count": null,
      "metadata": {
        "id": "zIRKjQofeCSm"
      },
      "outputs": [],
      "source": [
        "import numpy as np\n",
        "\n",
        "def sec_diag(X):\n",
        "    rows, cols = X.shape\n",
        "    \n",
        "    diagonal_elements = [X[i, cols - i - 1] for i in range(rows)]\n",
        "    \n",
        "    return np.array(diagonal_elements)\n",
        "\n",
        "X = np.array([[1, 2], [3, 4]])\n",
        "\n",
        "result = sec_diag(X)\n",
        "print(result)\n"
      ]
    },
    {
      "cell_type": "markdown",
      "metadata": {
        "id": "TQ61tk7SeCSm"
      },
      "source": [
        "## Робота з бібліотекою pandas\n",
        "\n",
        "В наступній частині лабораторної роботи розглянемо бібліотеку pandas.\n",
        "Перед виконанням цієї частини необхідно завантажити датасет `titanic.csv`\n",
        "\n",
        "[основна документація цього розділу](https://pandas.pydata.org/)"
      ]
    },
    {
      "cell_type": "code",
      "execution_count": 16,
      "metadata": {
        "id": "Fbe_qcF0eCSm"
      },
      "outputs": [],
      "source": [
        "import pandas as pd\n",
        "\n",
        "# Завантажте датасет. Ознайомтесь з тим як це правильно зробити, уважно прочитавши документацію по функції pd.read_csv.\n",
        "# Зверніть особливу увагу на роздільники датасета. \n",
        "\n",
        "dataset = pd.read_csv('titanic.csv')"
      ]
    },
    {
      "cell_type": "markdown",
      "metadata": {
        "id": "qTxYBLWdeCSm"
      },
      "source": [
        "Завдання 10: Кого більше - чоловіків чи жінок?"
      ]
    },
    {
      "cell_type": "code",
      "execution_count": 18,
      "metadata": {
        "id": "58MgIBEleCSm"
      },
      "outputs": [
        {
          "name": "stdout",
          "output_type": "stream",
          "text": [
            "Чоловіків більше ніж жінок.\n"
          ]
        }
      ],
      "source": [
        "import pandas as pd\n",
        "\n",
        "dataset = pd.read_csv('titanic.csv')\n",
        "gender_counts = dataset['Sex'].value_counts()\n",
        "\n",
        "if gender_counts['male'] > gender_counts['female']:\n",
        "    print(\"Чоловіків більше ніж жінок.\")\n",
        "elif gender_counts['male'] < gender_counts['female']:\n",
        "    print(\"Жінок більше ніж чоловіків.\")\n",
        "else:\n",
        "    print(\"Чоловіків і жінок однакова кількість.\")\n"
      ]
    },
    {
      "cell_type": "markdown",
      "metadata": {
        "id": "ApLZCvNveCSm"
      },
      "source": [
        "Завдання 11: Виведіть наступні характеристики пасажирів: середній вік пасажирів, середній вік чоловіків, середній вік жінок, максимальний і мінімальний вік серед чоловіків і жінок."
      ]
    },
    {
      "cell_type": "code",
      "execution_count": 19,
      "metadata": {
        "id": "Sg59NcqLeCSn"
      },
      "outputs": [
        {
          "name": "stdout",
          "output_type": "stream",
          "text": [
            "Середній вік пасажирів: 29.69911764705882\n",
            "Середній вік чоловіків: 30.72664459161148\n",
            "Середній вік жінок: 27.915708812260537\n",
            "Максимальний вік серед чоловіків: 80.0\n",
            "Максимальний вік серед жінок: 63.0\n",
            "Мінімальний вік серед чоловіків: 0.42\n",
            "Мінімальний вік серед жінок: 0.75\n"
          ]
        }
      ],
      "source": [
        "import pandas as pd\n",
        "\n",
        "dataset = pd.read_csv('titanic.csv')\n",
        "\n",
        "mean_age = dataset['Age'].mean()\n",
        "mean_male_age = dataset[dataset['Sex'] == 'male']['Age'].mean()\n",
        "mean_female_age = dataset[dataset['Sex'] == 'female']['Age'].mean()\n",
        "\n",
        "max_male_age = dataset[dataset['Sex'] == 'male']['Age'].max()\n",
        "max_female_age = dataset[dataset['Sex'] == 'female']['Age'].max()\n",
        "\n",
        "min_male_age = dataset[dataset['Sex'] == 'male']['Age'].min()\n",
        "min_female_age = dataset[dataset['Sex'] == 'female']['Age'].min()\n",
        "\n",
        "print(\"Середній вік пасажирів:\", mean_age)\n",
        "print(\"Середній вік чоловіків:\", mean_male_age)\n",
        "print(\"Середній вік жінок:\", mean_female_age)\n",
        "print(\"Максимальний вік серед чоловіків:\", max_male_age)\n",
        "print(\"Максимальний вік серед жінок:\", max_female_age)\n",
        "print(\"Мінімальний вік серед чоловіків:\", min_male_age)\n",
        "print(\"Мінімальний вік серед жінок:\", min_female_age)\n"
      ]
    },
    {
      "cell_type": "markdown",
      "metadata": {
        "id": "P5zkuX9VeCSn"
      },
      "source": [
        " ## Знайомство з бібліотекою matplotlib "
      ]
    },
    {
      "cell_type": "markdown",
      "metadata": {
        "id": "cYyqxB4MeCSn"
      },
      "source": [
        "Для початку ознайомтесь з [документацією](https://matplotlib.org/)"
      ]
    },
    {
      "cell_type": "markdown",
      "metadata": {
        "id": "pEt3gexreCSn"
      },
      "source": [
        "Завдання 12: Побудувати задані функції: \n",
        "\n",
        "$f_{1}(x) =  \\frac{sin(x)}{x}$\n",
        "\n",
        "$f_{2}(x) =  \\frac{cos(x)}{x^2 + 1}$\n",
        "\n",
        "$f_{3}(x) =  cos^2(x) - \\frac{sin(x)}{2}$  \n",
        "\n",
        "$f_{4}(x) =  cos(x)$  \n",
        "\n",
        "$f_{5}(x) =  \\frac{sin(x)}{x^2 + 1}$"
      ]
    },
    {
      "cell_type": "markdown",
      "metadata": {
        "id": "WKoZNPOfJ_nC"
      },
      "source": [
        "зробити візуалізацію заданих функцій  "
      ]
    },
    {
      "cell_type": "code",
      "execution_count": null,
      "metadata": {
        "id": "YVT6yXXqeCSn"
      },
      "outputs": [],
      "source": [
        "from matplotlib import pylab as plt\n",
        "%matplotlib inline"
      ]
    },
    {
      "cell_type": "code",
      "execution_count": 22,
      "metadata": {
        "id": "ki86Yt_XeCSo"
      },
      "outputs": [],
      "source": [
        "import numpy as np\n",
        "import matplotlib.pyplot as plt\n",
        "\n",
        "def f1(x):\n",
        "    return np.sin(x) / x\n",
        "\n",
        "def f2(x):\n",
        "    return np.cos(x) / (x**2 + 1)\n",
        "\n",
        "def f3(x):\n",
        "    return np.cos(x)**2 - np.sin(x) / 2\n",
        "\n",
        "def f4(x):\n",
        "    return np.cos(x)\n",
        "\n",
        "def f5(x):\n",
        "    return np.sin(x) / (x**2 + 1)"
      ]
    },
    {
      "cell_type": "code",
      "execution_count": null,
      "metadata": {
        "id": "70fOVYjJeCSo"
      },
      "outputs": [],
      "source": [
        "x_values = np.linspace(-10, 10, 1000)\n",
        "\n",
        "plt.figure(figsize=(12, 8))\n",
        "\n",
        "plt.subplot(3, 2, 1)\n",
        "plt.plot(x_values, f1(x_values), label='$f_{1}(x)$')\n",
        "plt.legend()\n",
        "\n",
        "plt.subplot(3, 2, 2)\n",
        "plt.plot(x_values, f2(x_values), label='$f_{2}(x)$')\n",
        "plt.legend()\n",
        "\n",
        "plt.subplot(3, 2, 3)\n",
        "plt.plot(x_values, f3(x_values), label='$f_{3}(x)$')\n",
        "plt.legend()\n",
        "\n",
        "plt.subplot(3, 2, 4)\n",
        "plt.plot(x_values, f4(x_values), label='$f_{4}(x)$')\n",
        "plt.legend()\n",
        "\n",
        "plt.subplot(3, 2, 5)\n",
        "plt.plot(x_values, f5(x_values), label='$f_{5}(x)$')\n",
        "plt.legend()\n",
        "\n",
        "plt.tight_layout()\n",
        "plt.show()\n"
      ]
    },
    {
      "cell_type": "markdown",
      "metadata": {
        "id": "Tg-QmR-eeCSp"
      },
      "source": [
        "Завдання 13: Побудувати графік щільності розподілу випадкової змінної."
      ]
    },
    {
      "cell_type": "markdown",
      "metadata": {
        "id": "fOxQ9EsYJ_nH"
      },
      "source": [
        "зробити візуалізації"
      ]
    },
    {
      "cell_type": "code",
      "execution_count": 27,
      "metadata": {
        "id": "9Av3YD1NeCSp"
      },
      "outputs": [
        {
          "data": {
            "image/png": "[encoded data removed]",
            "text/plain": [
              "<Figure size 640x480 with 1 Axes>"
            ]
          },
          "metadata": {},
          "output_type": "display_data"
        }
      ],
      "source": [
        "import numpy as np\n",
        "import matplotlib.pyplot as plt\n",
        "from scipy.stats import binom\n",
        "\n",
        "n = 20 \n",
        "p = 0.5  \n",
        "\n",
        "x_values = np.arange(0, n+1)\n",
        "\n",
        "y_values = binom.pmf(x_values, n, p)\n",
        "\n",
        "plt.bar(x_values, y_values, alpha=0.7, color='blue')\n",
        "\n",
        "plt.title('Щільність розподілу Біноміального розподілу')\n",
        "plt.xlabel('Значення випадкової змінної')\n",
        "plt.ylabel('Щільність ймовірності')\n",
        "\n",
        "plt.show()\n"
      ]
    },
    {
      "cell_type": "markdown",
      "metadata": {
        "id": "Rd4OLxTjl1kj"
      },
      "source": [
        "**Кожне завдання лабораторної роботи оцінюється в 1 бал (за умов правильного виконання)!!!!**\n",
        "\n",
        "**Робота, яка ідентифікована як ПЛАГІАТ, буде оцінюватись в 0 балів!!!**\n",
        "\n",
        "**Вибірково виконані завдання оцінюватись не будуть!!!**"
      ]
    }
  ],
  "metadata": {
    "colab": {
      "collapsed_sections": [],
      "name": "task1_basic_ai_AD.ipynb",
      "provenance": []
    },
    "kernelspec": {
      "display_name": "Python 3",
      "language": "python",
      "name": "python3"
    },
    "language_info": {
      "codemirror_mode": {
        "name": "ipython",
        "version": 3
      },
      "file_extension": ".py",
      "mimetype": "text/x-python",
      "name": "python",
      "nbconvert_exporter": "python",
      "pygments_lexer": "ipython3",
      "version": "3.11.8"
    }
  },
  "nbformat": 4,
  "nbformat_minor": 0
}
